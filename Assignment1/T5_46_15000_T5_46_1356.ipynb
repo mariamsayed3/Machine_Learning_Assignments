{
 "cells": [
  {
   "cell_type": "markdown",
   "metadata": {
    "id": "nz_9QnWBj9_6"
   },
   "source": [
    "# Polynomial Regression Assignment (Please do not remove the output cells)"
   ]
  },
  {
   "cell_type": "markdown",
   "metadata": {
    "id": "oNtRAlw1uQYi"
   },
   "source": [
    "## The objective is to apply polynomial regression on the provided data using 3 regularization techniques"
   ]
  },
  {
   "cell_type": "markdown",
   "metadata": {
    "id": "0Sh_Oqa2j9_7"
   },
   "source": [
    "Tasks are defined below:\n",
    "1-  Read the dataset, and get acquainted with its features and labels. Check the link below for more details about the data.  \n",
    "https://archive.ics.uci.edu/ml/datasets/Air+Quality  \n",
    "\n",
    "2-  This dataset has 5 different output labels. For this assignment we only need the NO2 output. Please drop other outputs.  \n",
    "\n",
    "3-  Handle missing data similar to what was covered in tutorial 3.  \n",
    "\n",
    "4-  Replace the date feature with 3 separate features (Day, Month and Year).  \n",
    "\n",
    "5-  Replace the time feature with 3 separate features (Hours, Minutes and Seconds).  \n",
    "\n",
    "6-  Apply feature scaling.  \n",
    "\n",
    "7-  Evaluate different degrees of lasso CV polynomial regression.  \n",
    "\n",
    "8-  Choose the best degree and print the errors on the test data, model coefficients and the lasso parameters.  \n",
    "\n",
    "9-  Repeat steps 4 and 5 using Ridge CV polynomial regression.  \n",
    "\n",
    "10- Repeat steps 4 and 5 using ElasticNet CV polynomial regression.  \n",
    "\n",
    "11- Compare the errors from the 3 regularization techniques, and save the best model.  \n",
    "\n",
    "12- Load the best model and test it on a sample that you manually created it.  \n"
   ]
  },
  {
   "cell_type": "markdown",
   "metadata": {},
   "source": [
    "## Enter your IDs and Names below"
   ]
  },
  {
   "cell_type": "markdown",
   "metadata": {},
   "source": [
    "1-   Yassmine Haggag 46-15000\n",
    "  \n",
    "2-   Mariam Wael 46-1356"
   ]
  },
  {
   "cell_type": "markdown",
   "metadata": {
    "id": "bsZFdAtSj9_8"
   },
   "source": [
    "\n",
    "### Imports"
   ]
  },
  {
   "cell_type": "code",
   "execution_count": 2,
   "metadata": {
    "id": "nuN2-J1bj9_9",
    "tags": []
   },
   "outputs": [],
   "source": [
    "import numpy as np\n",
    "import pandas as pd\n",
    "import matplotlib.pyplot as plt\n",
    "import seaborn as sns\n",
    "from sklearn.preprocessing import StandardScaler\n",
    "from sklearn.preprocessing import PolynomialFeatures \n",
    "from sklearn.model_selection import train_test_split\n",
    "from sklearn.metrics import mean_absolute_error,mean_squared_error"
   ]
  },
  {
   "cell_type": "markdown",
   "metadata": {
    "id": "hszifOuTj9__",
    "tags": []
   },
   "source": [
    "### 1- Read the data"
   ]
  },
  {
   "cell_type": "code",
   "execution_count": 3,
   "metadata": {
    "id": "ZzX469qmUTu2",
    "tags": []
   },
   "outputs": [
    {
     "data": {
      "text/html": [
       "<div>\n",
       "<style scoped>\n",
       "    .dataframe tbody tr th:only-of-type {\n",
       "        vertical-align: middle;\n",
       "    }\n",
       "\n",
       "    .dataframe tbody tr th {\n",
       "        vertical-align: top;\n",
       "    }\n",
       "\n",
       "    .dataframe thead th {\n",
       "        text-align: right;\n",
       "    }\n",
       "</style>\n",
       "<table border=\"1\" class=\"dataframe\">\n",
       "  <thead>\n",
       "    <tr style=\"text-align: right;\">\n",
       "      <th></th>\n",
       "      <th>Date</th>\n",
       "      <th>Time</th>\n",
       "      <th>CO(GT)</th>\n",
       "      <th>PT08.S1(CO)</th>\n",
       "      <th>NMHC(GT)</th>\n",
       "      <th>C6H6(GT)</th>\n",
       "      <th>PT08.S2(NMHC)</th>\n",
       "      <th>NOx(GT)</th>\n",
       "      <th>PT08.S3(NOx)</th>\n",
       "      <th>NO2(GT)</th>\n",
       "      <th>PT08.S4(NO2)</th>\n",
       "      <th>PT08.S5(O3)</th>\n",
       "      <th>T</th>\n",
       "      <th>RH</th>\n",
       "      <th>AH</th>\n",
       "    </tr>\n",
       "  </thead>\n",
       "  <tbody>\n",
       "    <tr>\n",
       "      <th>0</th>\n",
       "      <td>3/10/2004</td>\n",
       "      <td>18:00:00</td>\n",
       "      <td>2.6</td>\n",
       "      <td>1360.0</td>\n",
       "      <td>150.0</td>\n",
       "      <td>11.9</td>\n",
       "      <td>1046.0</td>\n",
       "      <td>166.0</td>\n",
       "      <td>1056.0</td>\n",
       "      <td>113.0</td>\n",
       "      <td>1692.0</td>\n",
       "      <td>1268.0</td>\n",
       "      <td>13.6</td>\n",
       "      <td>48.9</td>\n",
       "      <td>0.7578</td>\n",
       "    </tr>\n",
       "    <tr>\n",
       "      <th>1</th>\n",
       "      <td>3/10/2004</td>\n",
       "      <td>19:00:00</td>\n",
       "      <td>2.0</td>\n",
       "      <td>1292.0</td>\n",
       "      <td>112.0</td>\n",
       "      <td>9.4</td>\n",
       "      <td>955.0</td>\n",
       "      <td>103.0</td>\n",
       "      <td>1174.0</td>\n",
       "      <td>92.0</td>\n",
       "      <td>1559.0</td>\n",
       "      <td>972.0</td>\n",
       "      <td>13.3</td>\n",
       "      <td>47.7</td>\n",
       "      <td>0.7255</td>\n",
       "    </tr>\n",
       "    <tr>\n",
       "      <th>2</th>\n",
       "      <td>3/10/2004</td>\n",
       "      <td>20:00:00</td>\n",
       "      <td>2.2</td>\n",
       "      <td>1402.0</td>\n",
       "      <td>88.0</td>\n",
       "      <td>9.0</td>\n",
       "      <td>939.0</td>\n",
       "      <td>131.0</td>\n",
       "      <td>1140.0</td>\n",
       "      <td>114.0</td>\n",
       "      <td>1555.0</td>\n",
       "      <td>1074.0</td>\n",
       "      <td>11.9</td>\n",
       "      <td>54.0</td>\n",
       "      <td>0.7502</td>\n",
       "    </tr>\n",
       "    <tr>\n",
       "      <th>3</th>\n",
       "      <td>3/10/2004</td>\n",
       "      <td>21:00:00</td>\n",
       "      <td>2.2</td>\n",
       "      <td>1376.0</td>\n",
       "      <td>80.0</td>\n",
       "      <td>9.2</td>\n",
       "      <td>948.0</td>\n",
       "      <td>172.0</td>\n",
       "      <td>1092.0</td>\n",
       "      <td>122.0</td>\n",
       "      <td>1584.0</td>\n",
       "      <td>1203.0</td>\n",
       "      <td>11.0</td>\n",
       "      <td>60.0</td>\n",
       "      <td>0.7867</td>\n",
       "    </tr>\n",
       "    <tr>\n",
       "      <th>4</th>\n",
       "      <td>3/10/2004</td>\n",
       "      <td>22:00:00</td>\n",
       "      <td>1.6</td>\n",
       "      <td>1272.0</td>\n",
       "      <td>51.0</td>\n",
       "      <td>6.5</td>\n",
       "      <td>836.0</td>\n",
       "      <td>131.0</td>\n",
       "      <td>1205.0</td>\n",
       "      <td>116.0</td>\n",
       "      <td>1490.0</td>\n",
       "      <td>1110.0</td>\n",
       "      <td>11.2</td>\n",
       "      <td>59.6</td>\n",
       "      <td>0.7888</td>\n",
       "    </tr>\n",
       "  </tbody>\n",
       "</table>\n",
       "</div>"
      ],
      "text/plain": [
       "        Date      Time  CO(GT)  PT08.S1(CO)  NMHC(GT)  C6H6(GT)  \\\n",
       "0  3/10/2004  18:00:00     2.6       1360.0     150.0      11.9   \n",
       "1  3/10/2004  19:00:00     2.0       1292.0     112.0       9.4   \n",
       "2  3/10/2004  20:00:00     2.2       1402.0      88.0       9.0   \n",
       "3  3/10/2004  21:00:00     2.2       1376.0      80.0       9.2   \n",
       "4  3/10/2004  22:00:00     1.6       1272.0      51.0       6.5   \n",
       "\n",
       "   PT08.S2(NMHC)  NOx(GT)  PT08.S3(NOx)  NO2(GT)  PT08.S4(NO2)  PT08.S5(O3)  \\\n",
       "0         1046.0    166.0        1056.0    113.0        1692.0       1268.0   \n",
       "1          955.0    103.0        1174.0     92.0        1559.0        972.0   \n",
       "2          939.0    131.0        1140.0    114.0        1555.0       1074.0   \n",
       "3          948.0    172.0        1092.0    122.0        1584.0       1203.0   \n",
       "4          836.0    131.0        1205.0    116.0        1490.0       1110.0   \n",
       "\n",
       "      T    RH      AH  \n",
       "0  13.6  48.9  0.7578  \n",
       "1  13.3  47.7  0.7255  \n",
       "2  11.9  54.0  0.7502  \n",
       "3  11.0  60.0  0.7867  \n",
       "4  11.2  59.6  0.7888  "
      ]
     },
     "execution_count": 3,
     "metadata": {},
     "output_type": "execute_result"
    }
   ],
   "source": [
    "df = pd.read_csv(\"AirQualityUCI.csv\")\n",
    "df.head()"
   ]
  },
  {
   "cell_type": "markdown",
   "metadata": {
    "id": "TMHFhOfXuQYl"
   },
   "source": [
    "### 2- Drop unwanted labels"
   ]
  },
  {
   "cell_type": "code",
   "execution_count": 4,
   "metadata": {
    "id": "L7395CTWuQYm",
    "tags": []
   },
   "outputs": [
    {
     "data": {
      "text/html": [
       "<div>\n",
       "<style scoped>\n",
       "    .dataframe tbody tr th:only-of-type {\n",
       "        vertical-align: middle;\n",
       "    }\n",
       "\n",
       "    .dataframe tbody tr th {\n",
       "        vertical-align: top;\n",
       "    }\n",
       "\n",
       "    .dataframe thead th {\n",
       "        text-align: right;\n",
       "    }\n",
       "</style>\n",
       "<table border=\"1\" class=\"dataframe\">\n",
       "  <thead>\n",
       "    <tr style=\"text-align: right;\">\n",
       "      <th></th>\n",
       "      <th>Date</th>\n",
       "      <th>Time</th>\n",
       "      <th>PT08.S1(CO)</th>\n",
       "      <th>PT08.S2(NMHC)</th>\n",
       "      <th>PT08.S3(NOx)</th>\n",
       "      <th>NO2(GT)</th>\n",
       "      <th>PT08.S4(NO2)</th>\n",
       "      <th>PT08.S5(O3)</th>\n",
       "      <th>T</th>\n",
       "      <th>RH</th>\n",
       "      <th>AH</th>\n",
       "    </tr>\n",
       "  </thead>\n",
       "  <tbody>\n",
       "    <tr>\n",
       "      <th>0</th>\n",
       "      <td>3/10/2004</td>\n",
       "      <td>18:00:00</td>\n",
       "      <td>1360.0</td>\n",
       "      <td>1046.0</td>\n",
       "      <td>1056.0</td>\n",
       "      <td>113.0</td>\n",
       "      <td>1692.0</td>\n",
       "      <td>1268.0</td>\n",
       "      <td>13.6</td>\n",
       "      <td>48.9</td>\n",
       "      <td>0.7578</td>\n",
       "    </tr>\n",
       "    <tr>\n",
       "      <th>1</th>\n",
       "      <td>3/10/2004</td>\n",
       "      <td>19:00:00</td>\n",
       "      <td>1292.0</td>\n",
       "      <td>955.0</td>\n",
       "      <td>1174.0</td>\n",
       "      <td>92.0</td>\n",
       "      <td>1559.0</td>\n",
       "      <td>972.0</td>\n",
       "      <td>13.3</td>\n",
       "      <td>47.7</td>\n",
       "      <td>0.7255</td>\n",
       "    </tr>\n",
       "    <tr>\n",
       "      <th>2</th>\n",
       "      <td>3/10/2004</td>\n",
       "      <td>20:00:00</td>\n",
       "      <td>1402.0</td>\n",
       "      <td>939.0</td>\n",
       "      <td>1140.0</td>\n",
       "      <td>114.0</td>\n",
       "      <td>1555.0</td>\n",
       "      <td>1074.0</td>\n",
       "      <td>11.9</td>\n",
       "      <td>54.0</td>\n",
       "      <td>0.7502</td>\n",
       "    </tr>\n",
       "    <tr>\n",
       "      <th>3</th>\n",
       "      <td>3/10/2004</td>\n",
       "      <td>21:00:00</td>\n",
       "      <td>1376.0</td>\n",
       "      <td>948.0</td>\n",
       "      <td>1092.0</td>\n",
       "      <td>122.0</td>\n",
       "      <td>1584.0</td>\n",
       "      <td>1203.0</td>\n",
       "      <td>11.0</td>\n",
       "      <td>60.0</td>\n",
       "      <td>0.7867</td>\n",
       "    </tr>\n",
       "    <tr>\n",
       "      <th>4</th>\n",
       "      <td>3/10/2004</td>\n",
       "      <td>22:00:00</td>\n",
       "      <td>1272.0</td>\n",
       "      <td>836.0</td>\n",
       "      <td>1205.0</td>\n",
       "      <td>116.0</td>\n",
       "      <td>1490.0</td>\n",
       "      <td>1110.0</td>\n",
       "      <td>11.2</td>\n",
       "      <td>59.6</td>\n",
       "      <td>0.7888</td>\n",
       "    </tr>\n",
       "  </tbody>\n",
       "</table>\n",
       "</div>"
      ],
      "text/plain": [
       "        Date      Time  PT08.S1(CO)  PT08.S2(NMHC)  PT08.S3(NOx)  NO2(GT)  \\\n",
       "0  3/10/2004  18:00:00       1360.0         1046.0        1056.0    113.0   \n",
       "1  3/10/2004  19:00:00       1292.0          955.0        1174.0     92.0   \n",
       "2  3/10/2004  20:00:00       1402.0          939.0        1140.0    114.0   \n",
       "3  3/10/2004  21:00:00       1376.0          948.0        1092.0    122.0   \n",
       "4  3/10/2004  22:00:00       1272.0          836.0        1205.0    116.0   \n",
       "\n",
       "   PT08.S4(NO2)  PT08.S5(O3)     T    RH      AH  \n",
       "0        1692.0       1268.0  13.6  48.9  0.7578  \n",
       "1        1559.0        972.0  13.3  47.7  0.7255  \n",
       "2        1555.0       1074.0  11.9  54.0  0.7502  \n",
       "3        1584.0       1203.0  11.0  60.0  0.7867  \n",
       "4        1490.0       1110.0  11.2  59.6  0.7888  "
      ]
     },
     "execution_count": 4,
     "metadata": {},
     "output_type": "execute_result"
    }
   ],
   "source": [
    "df = df.drop(['CO(GT)', 'NMHC(GT)', 'C6H6(GT)', 'NOx(GT)'], axis=1)\n",
    "df.head()"
   ]
  },
  {
   "cell_type": "markdown",
   "metadata": {
    "id": "rMSYDzn1uQYm"
   },
   "source": [
    "### 3- Handle missing data"
   ]
  },
  {
   "cell_type": "code",
   "execution_count": 5,
   "metadata": {
    "id": "FEai7yH9uQYn",
    "tags": []
   },
   "outputs": [
    {
     "name": "stdout",
     "output_type": "stream",
     "text": [
      "Date                0\n",
      "Time                0\n",
      "PT08.S1(CO)       366\n",
      "PT08.S2(NMHC)     366\n",
      "PT08.S3(NOx)      366\n",
      "NO2(GT)          1642\n",
      "PT08.S4(NO2)      366\n",
      "PT08.S5(O3)       366\n",
      "T                 366\n",
      "RH                366\n",
      "AH                366\n",
      "dtype: int64\n",
      "Date              0.00000\n",
      "Time              0.00000\n",
      "PT08.S1(CO)       3.91151\n",
      "PT08.S2(NMHC)     3.91151\n",
      "PT08.S3(NOx)      3.91151\n",
      "NO2(GT)          17.54836\n",
      "PT08.S4(NO2)      3.91151\n",
      "PT08.S5(O3)       3.91151\n",
      "T                 3.91151\n",
      "RH                3.91151\n",
      "AH                3.91151\n",
      "dtype: float64\n",
      "Date             0\n",
      "Time             0\n",
      "PT08.S1(CO)      0\n",
      "PT08.S2(NMHC)    0\n",
      "PT08.S3(NOx)     0\n",
      "NO2(GT)          0\n",
      "PT08.S4(NO2)     0\n",
      "PT08.S5(O3)      0\n",
      "T                0\n",
      "RH               0\n",
      "AH               0\n",
      "dtype: int64\n"
     ]
    },
    {
     "data": {
      "text/html": [
       "<div>\n",
       "<style scoped>\n",
       "    .dataframe tbody tr th:only-of-type {\n",
       "        vertical-align: middle;\n",
       "    }\n",
       "\n",
       "    .dataframe tbody tr th {\n",
       "        vertical-align: top;\n",
       "    }\n",
       "\n",
       "    .dataframe thead th {\n",
       "        text-align: right;\n",
       "    }\n",
       "</style>\n",
       "<table border=\"1\" class=\"dataframe\">\n",
       "  <thead>\n",
       "    <tr style=\"text-align: right;\">\n",
       "      <th></th>\n",
       "      <th>Date</th>\n",
       "      <th>Time</th>\n",
       "      <th>PT08.S1(CO)</th>\n",
       "      <th>PT08.S2(NMHC)</th>\n",
       "      <th>PT08.S3(NOx)</th>\n",
       "      <th>NO2(GT)</th>\n",
       "      <th>PT08.S4(NO2)</th>\n",
       "      <th>PT08.S5(O3)</th>\n",
       "      <th>T</th>\n",
       "      <th>RH</th>\n",
       "      <th>AH</th>\n",
       "    </tr>\n",
       "  </thead>\n",
       "  <tbody>\n",
       "    <tr>\n",
       "      <th>0</th>\n",
       "      <td>3/10/2004</td>\n",
       "      <td>18:00:00</td>\n",
       "      <td>1360.0</td>\n",
       "      <td>1046.0</td>\n",
       "      <td>1056.0</td>\n",
       "      <td>113.0</td>\n",
       "      <td>1692.0</td>\n",
       "      <td>1268.0</td>\n",
       "      <td>13.6</td>\n",
       "      <td>48.9</td>\n",
       "      <td>0.7578</td>\n",
       "    </tr>\n",
       "    <tr>\n",
       "      <th>1</th>\n",
       "      <td>3/10/2004</td>\n",
       "      <td>19:00:00</td>\n",
       "      <td>1292.0</td>\n",
       "      <td>955.0</td>\n",
       "      <td>1174.0</td>\n",
       "      <td>92.0</td>\n",
       "      <td>1559.0</td>\n",
       "      <td>972.0</td>\n",
       "      <td>13.3</td>\n",
       "      <td>47.7</td>\n",
       "      <td>0.7255</td>\n",
       "    </tr>\n",
       "    <tr>\n",
       "      <th>2</th>\n",
       "      <td>3/10/2004</td>\n",
       "      <td>20:00:00</td>\n",
       "      <td>1402.0</td>\n",
       "      <td>939.0</td>\n",
       "      <td>1140.0</td>\n",
       "      <td>114.0</td>\n",
       "      <td>1555.0</td>\n",
       "      <td>1074.0</td>\n",
       "      <td>11.9</td>\n",
       "      <td>54.0</td>\n",
       "      <td>0.7502</td>\n",
       "    </tr>\n",
       "    <tr>\n",
       "      <th>3</th>\n",
       "      <td>3/10/2004</td>\n",
       "      <td>21:00:00</td>\n",
       "      <td>1376.0</td>\n",
       "      <td>948.0</td>\n",
       "      <td>1092.0</td>\n",
       "      <td>122.0</td>\n",
       "      <td>1584.0</td>\n",
       "      <td>1203.0</td>\n",
       "      <td>11.0</td>\n",
       "      <td>60.0</td>\n",
       "      <td>0.7867</td>\n",
       "    </tr>\n",
       "    <tr>\n",
       "      <th>4</th>\n",
       "      <td>3/10/2004</td>\n",
       "      <td>22:00:00</td>\n",
       "      <td>1272.0</td>\n",
       "      <td>836.0</td>\n",
       "      <td>1205.0</td>\n",
       "      <td>116.0</td>\n",
       "      <td>1490.0</td>\n",
       "      <td>1110.0</td>\n",
       "      <td>11.2</td>\n",
       "      <td>59.6</td>\n",
       "      <td>0.7888</td>\n",
       "    </tr>\n",
       "  </tbody>\n",
       "</table>\n",
       "</div>"
      ],
      "text/plain": [
       "        Date      Time  PT08.S1(CO)  PT08.S2(NMHC)  PT08.S3(NOx)  NO2(GT)  \\\n",
       "0  3/10/2004  18:00:00       1360.0         1046.0        1056.0    113.0   \n",
       "1  3/10/2004  19:00:00       1292.0          955.0        1174.0     92.0   \n",
       "2  3/10/2004  20:00:00       1402.0          939.0        1140.0    114.0   \n",
       "3  3/10/2004  21:00:00       1376.0          948.0        1092.0    122.0   \n",
       "4  3/10/2004  22:00:00       1272.0          836.0        1205.0    116.0   \n",
       "\n",
       "   PT08.S4(NO2)  PT08.S5(O3)     T    RH      AH  \n",
       "0        1692.0       1268.0  13.6  48.9  0.7578  \n",
       "1        1559.0        972.0  13.3  47.7  0.7255  \n",
       "2        1555.0       1074.0  11.9  54.0  0.7502  \n",
       "3        1584.0       1203.0  11.0  60.0  0.7867  \n",
       "4        1490.0       1110.0  11.2  59.6  0.7888  "
      ]
     },
     "execution_count": 5,
     "metadata": {},
     "output_type": "execute_result"
    },
    {
     "data": {
      "image/png": "[encoded data removed]",
      "text/plain": [
       "<Figure size 640x480 with 1 Axes>"
      ]
     },
     "metadata": {},
     "output_type": "display_data"
    }
   ],
   "source": [
    "print(df.isnull().sum())\n",
    "print(100* df.isnull().sum() / len(df))\n",
    "\n",
    "def percent_missing(df):\n",
    "    percent_nan = 100*df.isna().mean()\n",
    "    percent_nan = percent_nan[percent_nan>0].sort_values(ascending=False)\n",
    "    return percent_nan\n",
    "\n",
    "percent_nan = percent_missing(df)\n",
    "\n",
    "sns.barplot(x=percent_nan.index,y=percent_nan)\n",
    "plt.xticks(rotation=90);\n",
    "\n",
    "#we will remove the null values by replacing them with the median in all columns other than the target\n",
    "df['PT08.S1(CO)'] = df['PT08.S1(CO)'].fillna(df['PT08.S1(CO)'].median())\n",
    "df['PT08.S2(NMHC)'] = df['PT08.S2(NMHC)'].fillna(df['PT08.S2(NMHC)'].median())\n",
    "df['PT08.S3(NOx)'] = df['PT08.S3(NOx)'].fillna(df['PT08.S3(NOx)'].median())\n",
    "df['PT08.S4(NO2)'] = df['PT08.S4(NO2)'].fillna(df['PT08.S4(NO2)'].median())\n",
    "df['PT08.S5(O3)'] = df['PT08.S5(O3)'].fillna(df['PT08.S5(O3)'].median())\n",
    "df['T'] = df['T'].fillna(df['T'].median())\n",
    "df['RH'] = df['RH'].fillna(df['RH'].median())\n",
    "df['AH'] = df['AH'].fillna(df['AH'].median())\n",
    "\n",
    "#we will keep the rows with no null values at the target\n",
    "df = df[~df['NO2(GT)'].isna()]\n",
    "print(df.isnull().sum())\n",
    "\n",
    "df.head()"
   ]
  },
  {
   "cell_type": "markdown",
   "metadata": {
    "id": "v7vinFJmuQYn"
   },
   "source": [
    "### 4- Replace date feature"
   ]
  },
  {
   "cell_type": "code",
   "execution_count": 6,
   "metadata": {
    "id": "e1X8-GXvuQYn",
    "tags": []
   },
   "outputs": [
    {
     "data": {
      "text/html": [
       "<div>\n",
       "<style scoped>\n",
       "    .dataframe tbody tr th:only-of-type {\n",
       "        vertical-align: middle;\n",
       "    }\n",
       "\n",
       "    .dataframe tbody tr th {\n",
       "        vertical-align: top;\n",
       "    }\n",
       "\n",
       "    .dataframe thead th {\n",
       "        text-align: right;\n",
       "    }\n",
       "</style>\n",
       "<table border=\"1\" class=\"dataframe\">\n",
       "  <thead>\n",
       "    <tr style=\"text-align: right;\">\n",
       "      <th></th>\n",
       "      <th>Time</th>\n",
       "      <th>PT08.S1(CO)</th>\n",
       "      <th>PT08.S2(NMHC)</th>\n",
       "      <th>PT08.S3(NOx)</th>\n",
       "      <th>NO2(GT)</th>\n",
       "      <th>PT08.S4(NO2)</th>\n",
       "      <th>PT08.S5(O3)</th>\n",
       "      <th>T</th>\n",
       "      <th>RH</th>\n",
       "      <th>AH</th>\n",
       "      <th>Day</th>\n",
       "      <th>Month</th>\n",
       "      <th>Year</th>\n",
       "    </tr>\n",
       "  </thead>\n",
       "  <tbody>\n",
       "    <tr>\n",
       "      <th>0</th>\n",
       "      <td>18:00:00</td>\n",
       "      <td>1360.0</td>\n",
       "      <td>1046.0</td>\n",
       "      <td>1056.0</td>\n",
       "      <td>113.0</td>\n",
       "      <td>1692.0</td>\n",
       "      <td>1268.0</td>\n",
       "      <td>13.6</td>\n",
       "      <td>48.9</td>\n",
       "      <td>0.7578</td>\n",
       "      <td>10</td>\n",
       "      <td>3</td>\n",
       "      <td>2004</td>\n",
       "    </tr>\n",
       "    <tr>\n",
       "      <th>1</th>\n",
       "      <td>19:00:00</td>\n",
       "      <td>1292.0</td>\n",
       "      <td>955.0</td>\n",
       "      <td>1174.0</td>\n",
       "      <td>92.0</td>\n",
       "      <td>1559.0</td>\n",
       "      <td>972.0</td>\n",
       "      <td>13.3</td>\n",
       "      <td>47.7</td>\n",
       "      <td>0.7255</td>\n",
       "      <td>10</td>\n",
       "      <td>3</td>\n",
       "      <td>2004</td>\n",
       "    </tr>\n",
       "    <tr>\n",
       "      <th>2</th>\n",
       "      <td>20:00:00</td>\n",
       "      <td>1402.0</td>\n",
       "      <td>939.0</td>\n",
       "      <td>1140.0</td>\n",
       "      <td>114.0</td>\n",
       "      <td>1555.0</td>\n",
       "      <td>1074.0</td>\n",
       "      <td>11.9</td>\n",
       "      <td>54.0</td>\n",
       "      <td>0.7502</td>\n",
       "      <td>10</td>\n",
       "      <td>3</td>\n",
       "      <td>2004</td>\n",
       "    </tr>\n",
       "    <tr>\n",
       "      <th>3</th>\n",
       "      <td>21:00:00</td>\n",
       "      <td>1376.0</td>\n",
       "      <td>948.0</td>\n",
       "      <td>1092.0</td>\n",
       "      <td>122.0</td>\n",
       "      <td>1584.0</td>\n",
       "      <td>1203.0</td>\n",
       "      <td>11.0</td>\n",
       "      <td>60.0</td>\n",
       "      <td>0.7867</td>\n",
       "      <td>10</td>\n",
       "      <td>3</td>\n",
       "      <td>2004</td>\n",
       "    </tr>\n",
       "    <tr>\n",
       "      <th>4</th>\n",
       "      <td>22:00:00</td>\n",
       "      <td>1272.0</td>\n",
       "      <td>836.0</td>\n",
       "      <td>1205.0</td>\n",
       "      <td>116.0</td>\n",
       "      <td>1490.0</td>\n",
       "      <td>1110.0</td>\n",
       "      <td>11.2</td>\n",
       "      <td>59.6</td>\n",
       "      <td>0.7888</td>\n",
       "      <td>10</td>\n",
       "      <td>3</td>\n",
       "      <td>2004</td>\n",
       "    </tr>\n",
       "  </tbody>\n",
       "</table>\n",
       "</div>"
      ],
      "text/plain": [
       "       Time  PT08.S1(CO)  PT08.S2(NMHC)  PT08.S3(NOx)  NO2(GT)  PT08.S4(NO2)  \\\n",
       "0  18:00:00       1360.0         1046.0        1056.0    113.0        1692.0   \n",
       "1  19:00:00       1292.0          955.0        1174.0     92.0        1559.0   \n",
       "2  20:00:00       1402.0          939.0        1140.0    114.0        1555.0   \n",
       "3  21:00:00       1376.0          948.0        1092.0    122.0        1584.0   \n",
       "4  22:00:00       1272.0          836.0        1205.0    116.0        1490.0   \n",
       "\n",
       "   PT08.S5(O3)     T    RH      AH  Day  Month  Year  \n",
       "0       1268.0  13.6  48.9  0.7578   10      3  2004  \n",
       "1        972.0  13.3  47.7  0.7255   10      3  2004  \n",
       "2       1074.0  11.9  54.0  0.7502   10      3  2004  \n",
       "3       1203.0  11.0  60.0  0.7867   10      3  2004  \n",
       "4       1110.0  11.2  59.6  0.7888   10      3  2004  "
      ]
     },
     "execution_count": 6,
     "metadata": {},
     "output_type": "execute_result"
    }
   ],
   "source": [
    "df['Date'] = pd.to_datetime(df['Date'])\n",
    "df['Day'] = df['Date'].dt.day\n",
    "df['Month'] = df['Date'].dt.month\n",
    "df['Year'] = df['Date'].dt.year\n",
    "df = df.drop(['Date'], axis=1)\n",
    "df.head()"
   ]
  },
  {
   "cell_type": "markdown",
   "metadata": {
    "id": "zHvSGF9fuQYo"
   },
   "source": [
    "### 5- Replace time feature"
   ]
  },
  {
   "cell_type": "code",
   "execution_count": 7,
   "metadata": {
    "id": "vWqvEVdsuQYo",
    "tags": []
   },
   "outputs": [
    {
     "data": {
      "text/html": [
       "<div>\n",
       "<style scoped>\n",
       "    .dataframe tbody tr th:only-of-type {\n",
       "        vertical-align: middle;\n",
       "    }\n",
       "\n",
       "    .dataframe tbody tr th {\n",
       "        vertical-align: top;\n",
       "    }\n",
       "\n",
       "    .dataframe thead th {\n",
       "        text-align: right;\n",
       "    }\n",
       "</style>\n",
       "<table border=\"1\" class=\"dataframe\">\n",
       "  <thead>\n",
       "    <tr style=\"text-align: right;\">\n",
       "      <th></th>\n",
       "      <th>PT08.S1(CO)</th>\n",
       "      <th>PT08.S2(NMHC)</th>\n",
       "      <th>PT08.S3(NOx)</th>\n",
       "      <th>NO2(GT)</th>\n",
       "      <th>PT08.S4(NO2)</th>\n",
       "      <th>PT08.S5(O3)</th>\n",
       "      <th>T</th>\n",
       "      <th>RH</th>\n",
       "      <th>AH</th>\n",
       "      <th>Day</th>\n",
       "      <th>Month</th>\n",
       "      <th>Year</th>\n",
       "      <th>Hour</th>\n",
       "      <th>Minute</th>\n",
       "      <th>Second</th>\n",
       "    </tr>\n",
       "  </thead>\n",
       "  <tbody>\n",
       "    <tr>\n",
       "      <th>0</th>\n",
       "      <td>1360.0</td>\n",
       "      <td>1046.0</td>\n",
       "      <td>1056.0</td>\n",
       "      <td>113.0</td>\n",
       "      <td>1692.0</td>\n",
       "      <td>1268.0</td>\n",
       "      <td>13.6</td>\n",
       "      <td>48.9</td>\n",
       "      <td>0.7578</td>\n",
       "      <td>10</td>\n",
       "      <td>3</td>\n",
       "      <td>2004</td>\n",
       "      <td>18</td>\n",
       "      <td>0</td>\n",
       "      <td>0</td>\n",
       "    </tr>\n",
       "    <tr>\n",
       "      <th>1</th>\n",
       "      <td>1292.0</td>\n",
       "      <td>955.0</td>\n",
       "      <td>1174.0</td>\n",
       "      <td>92.0</td>\n",
       "      <td>1559.0</td>\n",
       "      <td>972.0</td>\n",
       "      <td>13.3</td>\n",
       "      <td>47.7</td>\n",
       "      <td>0.7255</td>\n",
       "      <td>10</td>\n",
       "      <td>3</td>\n",
       "      <td>2004</td>\n",
       "      <td>19</td>\n",
       "      <td>0</td>\n",
       "      <td>0</td>\n",
       "    </tr>\n",
       "    <tr>\n",
       "      <th>2</th>\n",
       "      <td>1402.0</td>\n",
       "      <td>939.0</td>\n",
       "      <td>1140.0</td>\n",
       "      <td>114.0</td>\n",
       "      <td>1555.0</td>\n",
       "      <td>1074.0</td>\n",
       "      <td>11.9</td>\n",
       "      <td>54.0</td>\n",
       "      <td>0.7502</td>\n",
       "      <td>10</td>\n",
       "      <td>3</td>\n",
       "      <td>2004</td>\n",
       "      <td>20</td>\n",
       "      <td>0</td>\n",
       "      <td>0</td>\n",
       "    </tr>\n",
       "    <tr>\n",
       "      <th>3</th>\n",
       "      <td>1376.0</td>\n",
       "      <td>948.0</td>\n",
       "      <td>1092.0</td>\n",
       "      <td>122.0</td>\n",
       "      <td>1584.0</td>\n",
       "      <td>1203.0</td>\n",
       "      <td>11.0</td>\n",
       "      <td>60.0</td>\n",
       "      <td>0.7867</td>\n",
       "      <td>10</td>\n",
       "      <td>3</td>\n",
       "      <td>2004</td>\n",
       "      <td>21</td>\n",
       "      <td>0</td>\n",
       "      <td>0</td>\n",
       "    </tr>\n",
       "    <tr>\n",
       "      <th>4</th>\n",
       "      <td>1272.0</td>\n",
       "      <td>836.0</td>\n",
       "      <td>1205.0</td>\n",
       "      <td>116.0</td>\n",
       "      <td>1490.0</td>\n",
       "      <td>1110.0</td>\n",
       "      <td>11.2</td>\n",
       "      <td>59.6</td>\n",
       "      <td>0.7888</td>\n",
       "      <td>10</td>\n",
       "      <td>3</td>\n",
       "      <td>2004</td>\n",
       "      <td>22</td>\n",
       "      <td>0</td>\n",
       "      <td>0</td>\n",
       "    </tr>\n",
       "  </tbody>\n",
       "</table>\n",
       "</div>"
      ],
      "text/plain": [
       "   PT08.S1(CO)  PT08.S2(NMHC)  PT08.S3(NOx)  NO2(GT)  PT08.S4(NO2)  \\\n",
       "0       1360.0         1046.0        1056.0    113.0        1692.0   \n",
       "1       1292.0          955.0        1174.0     92.0        1559.0   \n",
       "2       1402.0          939.0        1140.0    114.0        1555.0   \n",
       "3       1376.0          948.0        1092.0    122.0        1584.0   \n",
       "4       1272.0          836.0        1205.0    116.0        1490.0   \n",
       "\n",
       "   PT08.S5(O3)     T    RH      AH  Day  Month  Year  Hour  Minute  Second  \n",
       "0       1268.0  13.6  48.9  0.7578   10      3  2004    18       0       0  \n",
       "1        972.0  13.3  47.7  0.7255   10      3  2004    19       0       0  \n",
       "2       1074.0  11.9  54.0  0.7502   10      3  2004    20       0       0  \n",
       "3       1203.0  11.0  60.0  0.7867   10      3  2004    21       0       0  \n",
       "4       1110.0  11.2  59.6  0.7888   10      3  2004    22       0       0  "
      ]
     },
     "execution_count": 7,
     "metadata": {},
     "output_type": "execute_result"
    }
   ],
   "source": [
    "df['Time'] = pd.to_datetime(df['Time'])\n",
    "df['Hour'] = df['Time'].dt.hour\n",
    "df['Minute'] = df['Time'].dt.minute\n",
    "df['Second'] = df['Time'].dt.second\n",
    "df = df.drop(['Time'], axis=1)\n",
    "df.head()"
   ]
  },
  {
   "cell_type": "markdown",
   "metadata": {
    "id": "rV0bYDXzuQYo"
   },
   "source": [
    "### 6- Apply feature scaling"
   ]
  },
  {
   "cell_type": "code",
   "execution_count": 8,
   "metadata": {
    "id": "qIgBH_d2uQYo",
    "tags": []
   },
   "outputs": [
    {
     "data": {
      "text/plain": [
       "(      PT08.S1(CO)  PT08.S2(NMHC)  PT08.S3(NOx)  PT08.S4(NO2)  PT08.S5(O3)  \\\n",
       " 0          1360.0         1046.0        1056.0        1692.0       1268.0   \n",
       " 1          1292.0          955.0        1174.0        1559.0        972.0   \n",
       " 2          1402.0          939.0        1140.0        1555.0       1074.0   \n",
       " 3          1376.0          948.0        1092.0        1584.0       1203.0   \n",
       " 4          1272.0          836.0        1205.0        1490.0       1110.0   \n",
       " ...           ...            ...           ...           ...          ...   \n",
       " 9352       1314.0         1101.0         539.0        1374.0       1729.0   \n",
       " 9353       1163.0         1027.0         604.0        1264.0       1269.0   \n",
       " 9354       1142.0         1063.0         603.0        1241.0       1092.0   \n",
       " 9355       1003.0          961.0         702.0        1041.0        770.0   \n",
       " 9356       1071.0         1047.0         654.0        1129.0        816.0   \n",
       " \n",
       "          T    RH      AH  Day  Month  Year  Hour  Minute  Second  \n",
       " 0     13.6  48.9  0.7578   10      3  2004    18       0       0  \n",
       " 1     13.3  47.7  0.7255   10      3  2004    19       0       0  \n",
       " 2     11.9  54.0  0.7502   10      3  2004    20       0       0  \n",
       " 3     11.0  60.0  0.7867   10      3  2004    21       0       0  \n",
       " 4     11.2  59.6  0.7888   10      3  2004    22       0       0  \n",
       " ...    ...   ...     ...  ...    ...   ...   ...     ...     ...  \n",
       " 9352  21.9  29.3  0.7568    4      4  2005    10       0       0  \n",
       " 9353  24.3  23.7  0.7119    4      4  2005    11       0       0  \n",
       " 9354  26.9  18.3  0.6406    4      4  2005    12       0       0  \n",
       " 9355  28.3  13.5  0.5139    4      4  2005    13       0       0  \n",
       " 9356  28.5  13.1  0.5028    4      4  2005    14       0       0  \n",
       " \n",
       " [7715 rows x 14 columns],\n",
       " 0       113.0\n",
       " 1        92.0\n",
       " 2       114.0\n",
       " 3       122.0\n",
       " 4       116.0\n",
       "         ...  \n",
       " 9352    190.0\n",
       " 9353    179.0\n",
       " 9354    175.0\n",
       " 9355    156.0\n",
       " 9356    168.0\n",
       " Name: NO2(GT), Length: 7715, dtype: float64)"
      ]
     },
     "execution_count": 8,
     "metadata": {},
     "output_type": "execute_result"
    }
   ],
   "source": [
    "X = df.drop(['NO2(GT)'], axis=1)\n",
    "y = df['NO2(GT)']\n",
    "X,y\n",
    "# X_train, X_test, y_train, y_test = train_test_split(X, y, test_size=0.3)\n",
    "\n",
    "# scaler = StandardScaler()\n",
    "# scaler.fit(X_train)\n",
    "# X_train = scaler.transform(X_train)\n",
    "# X_test = scaler.transform(X_test)"
   ]
  },
  {
   "cell_type": "markdown",
   "metadata": {
    "id": "-Bh7ou_4uQYp",
    "tags": []
   },
   "source": [
    "[[937.0,\n",
    "  698.0,\n",
    "  1039.0,\n",
    "  1382.0,\n",
    "  768.0,\n",
    "  20.1,\n",
    "  42.0,\n",
    "  0.9763,\n",
    "  21.0,\n",
    "  5.0,\n",
    "  2004.0,\n",
    "  1.0,\n",
    "  0.0,\n",
    "  0.0]]### 7- Evaluate different degrees of lasso CV polynomial regression"
   ]
  },
  {
   "cell_type": "code",
   "execution_count": 9,
   "metadata": {
    "id": "tLBRmfjuuQYp",
    "tags": []
   },
   "outputs": [
    {
     "name": "stdout",
     "output_type": "stream",
     "text": [
      "1\n",
      "2\n",
      "3\n",
      "4\n"
     ]
    },
    {
     "name": "stderr",
     "output_type": "stream",
     "text": [
      "c:\\Users\\maria\\anaconda3\\envs\\MLC\\lib\\site-packages\\sklearn\\linear_model\\_coordinate_descent.py:647: ConvergenceWarning: Objective did not converge. You might want to increase the number of iterations, check the scale of the features or consider increasing regularisation. Duality gap: 1.341e+03, tolerance: 1.268e+03\n",
      "  model = cd_fast.enet_coordinate_descent(\n"
     ]
    }
   ],
   "source": [
    "from sklearn.linear_model import LassoCV\n",
    "\n",
    "# TRAINING ERROR PER DEGREE\n",
    "train_rmse_errors_la = []\n",
    "# TEST ERROR PER DEGREE\n",
    "test_rmse_errors_la = []\n",
    "\n",
    "for d in range(1,5):\n",
    "    # CREATE POLY DATA SET FOR DEGREE \"d\"\n",
    "    polynomial_converter = PolynomialFeatures(degree=d,include_bias=False)\n",
    "    poly_features = polynomial_converter.fit_transform(X)\n",
    "    \n",
    "    # SPLIT THIS NEW POLY DATA SET\n",
    "    X_train, X_test, y_train, y_test = train_test_split(poly_features, y, test_size=0.3, random_state=101)\n",
    "    \n",
    "    #APPLY FEATURE SCALING\n",
    "    scaler = StandardScaler()\n",
    "    scaler.fit(X_train)\n",
    "    X_train = scaler.transform(X_train)\n",
    "    X_test = scaler.transform(X_test)\n",
    "    \n",
    "    # TRAIN ON THIS NEW POLY SET\n",
    "    model = LassoCV(eps=0.1,n_alphas=10,cv=5)\n",
    "    model.fit(X_train,y_train)\n",
    "    \n",
    "    # PREDICT ON BOTH TRAIN AND TEST\n",
    "    train_pred = model.predict(X_train)\n",
    "    test_pred = model.predict(X_test)\n",
    "    \n",
    "    # Calculate Errors\n",
    "    \n",
    "    # Errors on Train Set\n",
    "    train_RMSE = np.sqrt(mean_squared_error(y_train,train_pred))\n",
    "    \n",
    "    # Errors on Test Set\n",
    "    test_RMSE = np.sqrt(mean_squared_error(y_test,test_pred))\n",
    "\n",
    "    # Append errors to lists for plotting later train_rmse_errors.append(train_RMSE)\n",
    "    train_rmse_errors_la.append(train_RMSE)\n",
    "    test_rmse_errors_la.append(test_RMSE)\n",
    "    print(d)"
   ]
  },
  {
   "cell_type": "markdown",
   "metadata": {
    "id": "pDn9gby-uQYp"
   },
   "source": [
    "### 8- Choose the best degree and print the errors, model coefficients and the lasso parameters."
   ]
  },
  {
   "cell_type": "code",
   "execution_count": 10,
   "metadata": {
    "id": "xLdmHaPBuQYq",
    "tags": []
   },
   "outputs": [
    {
     "name": "stdout",
     "output_type": "stream",
     "text": [
      "ERRORS:\n",
      "Train errors:  [25.884719613876232, 25.712889050502667, 25.76410047768075, 25.73980765518629]\n",
      "Test errors:  [26.317309809643127, 26.200620209915467, 26.228701478651605, 26.15751630222092]\n",
      "Model coefficients:  [ 0.          0.         -3.94602438 ...  0.          0.\n",
      "  0.        ]\n",
      "Lasso paremeters:  3.3925962844497337\n",
      "BEST DEGREE:  1\n"
     ]
    },
    {
     "data": {
      "image/png": "[encoded data removed]",
      "text/plain": [
       "<Figure size 640x480 with 1 Axes>"
      ]
     },
     "metadata": {},
     "output_type": "display_data"
    }
   ],
   "source": [
    "plt.plot(range(1,5),train_rmse_errors_la,label='TRAIN')\n",
    "plt.plot(range(1,5),test_rmse_errors_la,label='TEST')\n",
    "plt.xlabel(\"Polynomial Complexity\")\n",
    "plt.ylabel(\"RMSE\")\n",
    "plt.legend()\n",
    "print('ERRORS:')\n",
    "print('Train errors: ', train_rmse_errors_la)\n",
    "print('Test errors: ',test_rmse_errors_la)\n",
    "la_coef = model.coef_\n",
    "print('Model coefficients: ', la_coef)\n",
    "la_alpha = model.alpha_\n",
    "print('Lasso paremeters: ', la_alpha)\n",
    "# since the difference between error of the 1st degree and error of the 4th is about 0.15, its not worth the complexity\n",
    "la_best = 1\n",
    "print('BEST DEGREE: ', la_best)"
   ]
  },
  {
   "cell_type": "markdown",
   "metadata": {
    "id": "M8SOg6KEuQYq"
   },
   "source": [
    "### 9a- Evaluate different degrees of Ridge CV polynomial regression"
   ]
  },
  {
   "cell_type": "code",
   "execution_count": 11,
   "metadata": {
    "id": "IqWaySbcuQYq",
    "tags": []
   },
   "outputs": [
    {
     "name": "stdout",
     "output_type": "stream",
     "text": [
      "1\n",
      "2\n",
      "3\n",
      "4\n",
      "5\n",
      "6\n"
     ]
    }
   ],
   "source": [
    "from sklearn.linear_model import RidgeCV\n",
    "\n",
    "# TRAINING ERROR PER DEGREE\n",
    "train_rmse_errors_rd = []\n",
    "# TEST ERROR PER DEGREE\n",
    "test_rmse_errors_rd = []\n",
    "\n",
    "for d in range(1,7):\n",
    "    # CREATE POLY DATA SET FOR DEGREE \"d\"\n",
    "    polynomial_converter = PolynomialFeatures(degree=d,include_bias=False)\n",
    "    poly_features = polynomial_converter.fit_transform(X)\n",
    "    \n",
    "    # SPLIT THIS NEW POLY DATA SET\n",
    "    X_train, X_test, y_train, y_test = train_test_split(poly_features, y, test_size=0.3, random_state=101)\n",
    "    \n",
    "    #APPLY FEATURE SCALING\n",
    "    scaler = StandardScaler()\n",
    "    scaler.fit(X_train)\n",
    "    X_train = scaler.transform(X_train)\n",
    "    X_test = scaler.transform(X_test)\n",
    "    \n",
    "    # TRAIN ON THIS NEW POLY SET\n",
    "    ridge_cv_model = RidgeCV(alphas=(0.1, 1.0, 10.0),scoring='neg_mean_absolute_error')   \n",
    "    ridge_cv_model.fit(X_train,y_train)\n",
    "    \n",
    "    # PREDICT ON BOTH TRAIN AND TEST\n",
    "    train_pred = ridge_cv_model.predict(X_train)\n",
    "    test_pred = ridge_cv_model.predict(X_test)\n",
    "    \n",
    "    # Calculate Errors\n",
    "    \n",
    "    # Errors on Train Set\n",
    "    train_RMSE = np.sqrt(mean_squared_error(y_train,train_pred))\n",
    "    \n",
    "    # Errors on Test Set\n",
    "    test_RMSE = np.sqrt(mean_squared_error(y_test,test_pred))\n",
    "\n",
    "    # Append errors to lists for plotting later train_rmse_errors.append(train_RMSE)\n",
    "    train_rmse_errors_rd.append(train_RMSE)\n",
    "    test_rmse_errors_rd.append(test_RMSE)\n",
    "    print(d)"
   ]
  },
  {
   "cell_type": "markdown",
   "metadata": {
    "id": "8Bj_3j9RuQYr"
   },
   "source": [
    "### 9b- Choose the best degree and print the errors, model coefficients and the Ridge parameters."
   ]
  },
  {
   "cell_type": "code",
   "execution_count": 12,
   "metadata": {
    "id": "4q5E5NnbuQYr",
    "tags": []
   },
   "outputs": [
    {
     "name": "stdout",
     "output_type": "stream",
     "text": [
      "ERRORS:\n",
      "Train errors:  [24.586518246393673, 21.08250741569196, 17.764196700874603, 15.340426845543243, 13.747827364900038, 13.80891540927521]\n",
      "Test errors:  [25.16260710082757, 22.032427287205888, 19.332533989982977, 17.687824254704466, 16.998615026439207, 16.906855670761512]\n",
      "Model coefficients:  [ 2.84085105  3.61403869 -3.03190668 ...  0.          0.\n",
      "  0.        ]\n",
      "Ridge paremeters:  1.0\n",
      "BEST DEGREE:  6\n"
     ]
    },
    {
     "data": {
      "image/png": "[encoded data removed]",
      "text/plain": [
       "<Figure size 640x480 with 1 Axes>"
      ]
     },
     "metadata": {},
     "output_type": "display_data"
    }
   ],
   "source": [
    "plt.plot(range(1,7),train_rmse_errors_rd,label='TRAIN')\n",
    "plt.plot(range(1,7),test_rmse_errors_rd,label='TEST')\n",
    "plt.xlabel(\"Polynomial Complexity\")\n",
    "plt.ylabel(\"RMSE\")\n",
    "plt.legend()\n",
    "print('ERRORS:')\n",
    "print('Train errors: ', train_rmse_errors_rd)\n",
    "print('Test errors: ',test_rmse_errors_rd)\n",
    "rd_coef = ridge_cv_model.coef_\n",
    "print('Model coefficients: ', rd_coef)\n",
    "rd_alpha = ridge_cv_model.alpha_\n",
    "print('Ridge paremeters: ', rd_alpha)\n",
    "rd_best = test_rmse_errors_rd.index(min(test_rmse_errors_rd))+1\n",
    "print('BEST DEGREE: ', rd_best)"
   ]
  },
  {
   "cell_type": "markdown",
   "metadata": {
    "id": "MN4RwweLuQYr"
   },
   "source": [
    "### 10a- Evaluate different degrees of ElasticNet CV polynomial regression"
   ]
  },
  {
   "cell_type": "code",
   "execution_count": 13,
   "metadata": {
    "id": "qK9SePrtuQYr",
    "tags": []
   },
   "outputs": [
    {
     "name": "stdout",
     "output_type": "stream",
     "text": [
      "1\n"
     ]
    },
    {
     "name": "stderr",
     "output_type": "stream",
     "text": [
      "c:\\Users\\maria\\anaconda3\\envs\\MLC\\lib\\site-packages\\sklearn\\linear_model\\_coordinate_descent.py:647: ConvergenceWarning: Objective did not converge. You might want to increase the number of iterations, check the scale of the features or consider increasing regularisation. Duality gap: 1.666e+05, tolerance: 1.268e+05\n",
      "  model = cd_fast.enet_coordinate_descent(\n"
     ]
    },
    {
     "name": "stdout",
     "output_type": "stream",
     "text": [
      "2\n"
     ]
    },
    {
     "name": "stderr",
     "output_type": "stream",
     "text": [
      "c:\\Users\\maria\\anaconda3\\envs\\MLC\\lib\\site-packages\\sklearn\\linear_model\\_coordinate_descent.py:647: ConvergenceWarning: Objective did not converge. You might want to increase the number of iterations, check the scale of the features or consider increasing regularisation. Duality gap: 1.739e+05, tolerance: 1.268e+05\n",
      "  model = cd_fast.enet_coordinate_descent(\n"
     ]
    },
    {
     "name": "stdout",
     "output_type": "stream",
     "text": [
      "3\n",
      "4\n"
     ]
    },
    {
     "name": "stderr",
     "output_type": "stream",
     "text": [
      "c:\\Users\\maria\\anaconda3\\envs\\MLC\\lib\\site-packages\\sklearn\\linear_model\\_coordinate_descent.py:647: ConvergenceWarning: Objective did not converge. You might want to increase the number of iterations, check the scale of the features or consider increasing regularisation. Duality gap: 1.331e+05, tolerance: 1.268e+05\n",
      "  model = cd_fast.enet_coordinate_descent(\n"
     ]
    }
   ],
   "source": [
    "from sklearn.linear_model import ElasticNetCV\n",
    "\n",
    "# TRAINING ERROR PER DEGREE\n",
    "train_rmse_errors_el = []\n",
    "# TEST ERROR PER DEGREE\n",
    "test_rmse_errors_el = []\n",
    "\n",
    "for d in range(1,5):\n",
    "    # CREATE POLY DATA SET FOR DEGREE \"d\"\n",
    "    polynomial_converter = PolynomialFeatures(degree=d,include_bias=False)\n",
    "    poly_features = polynomial_converter.fit_transform(X)\n",
    "    \n",
    "    # SPLIT THIS NEW POLY DATA SET\n",
    "    X_train, X_test, y_train, y_test = train_test_split(poly_features, y, test_size=0.3, random_state=101)\n",
    "    \n",
    "    #APPLY FEATURE SCALING\n",
    "    scaler = StandardScaler()\n",
    "    scaler.fit(X_train)\n",
    "    X_train = scaler.transform(X_train)\n",
    "    X_test = scaler.transform(X_test)\n",
    "    \n",
    "    # TRAIN ON THIS NEW POLY SET\n",
    "    elastic_model = ElasticNetCV(l1_ratio=[.1, .5, .7,.9, .95, .99, 1],tol=0.01)    \n",
    "    elastic_model.fit(X_train,y_train)\n",
    "    \n",
    "    # PREDICT ON BOTH TRAIN AND TEST\n",
    "    train_pred = elastic_model.predict(X_train)\n",
    "    test_pred = elastic_model.predict(X_test)\n",
    "    \n",
    "    # Calculate Errors\n",
    "    \n",
    "    # Errors on Train Set\n",
    "    train_RMSE = np.sqrt(mean_squared_error(y_train,train_pred))\n",
    "    \n",
    "    # Errors on Test Set\n",
    "    test_RMSE = np.sqrt(mean_squared_error(y_test,test_pred))\n",
    "\n",
    "    # Append errors to lists for plotting later train_rmse_errors.append(train_RMSE)\n",
    "    train_rmse_errors_el.append(train_RMSE)\n",
    "    test_rmse_errors_el.append(test_RMSE)    \n",
    "    print(d)"
   ]
  },
  {
   "cell_type": "markdown",
   "metadata": {
    "id": "JSt5s73XuQYr",
    "tags": []
   },
   "source": [
    "### 10b- Choose the best degree and print the errors, model coefficients and ElasticNet parameters."
   ]
  },
  {
   "cell_type": "code",
   "execution_count": 14,
   "metadata": {
    "id": "UkbcQLlLuQYr",
    "tags": []
   },
   "outputs": [
    {
     "name": "stdout",
     "output_type": "stream",
     "text": [
      "ERRORS:\n",
      "Train errors:  [24.587323945183464, 21.663763159562397, 19.993233609874586, 19.22534867856306]\n",
      "Test errors:  [25.16355487200929, 22.510811313175775, 20.95230184847533, 20.291743711440162]\n",
      "Model coefficients:  [  7.35979578  17.24668604 -14.4865654  ...   0.           0.\n",
      "   0.        ]\n",
      "ElasticNet paremeters:  1.0\n",
      "BEST DEGREE:  4\n"
     ]
    },
    {
     "data": {
      "image/png": "[encoded data removed]",
      "text/plain": [
       "<Figure size 640x480 with 1 Axes>"
      ]
     },
     "metadata": {},
     "output_type": "display_data"
    }
   ],
   "source": [
    "plt.plot(range(1,5),train_rmse_errors_el,label='TRAIN')\n",
    "plt.plot(range(1,5),test_rmse_errors_el,label='TEST')\n",
    "plt.xlabel(\"Polynomial Complexity\")\n",
    "plt.ylabel(\"RMSE\")\n",
    "plt.legend()\n",
    "print('ERRORS:')\n",
    "print('Train errors: ', train_rmse_errors_el)\n",
    "print('Test errors: ',test_rmse_errors_el)\n",
    "el_coef = elastic_model.coef_\n",
    "print('Model coefficients: ', el_coef)\n",
    "el_ratio = elastic_model.l1_ratio_\n",
    "print('ElasticNet paremeters: ', el_ratio)\n",
    "el_best = test_rmse_errors_el.index(min(test_rmse_errors_el))+1 \n",
    "print('BEST DEGREE: ', el_best)"
   ]
  },
  {
   "cell_type": "markdown",
   "metadata": {
    "id": "O_cuFINquQYs"
   },
   "source": [
    "### 11- Compare the errors from the 3 regularization techniques, and save the best model."
   ]
  },
  {
   "cell_type": "code",
   "execution_count": 18,
   "metadata": {
    "id": "qn58GoGpuQYs",
    "tags": []
   },
   "outputs": [
    {
     "name": "stdout",
     "output_type": "stream",
     "text": [
      "Lasso degree 1 Test RMSE Error Value:  26.317309809643127 Model Coefficients:  [  0.          11.34885003  -8.48010203  -0.          12.714011\n",
      "  -0.          -0.10332322 -13.39236717  -0.           0.\n",
      "   8.62139916   4.9853421    0.           0.        ] Parameters:  3.3024782001932134\n",
      "Ridge degree 6 Test RMSE Error Value:  16.906855670761512 Model Coefficients:  [ 2.84085105  3.61403869 -3.03190668 ...  0.          0.\n",
      "  0.        ] Parameters:  1.0\n",
      "ElasticNet degree 4 Test RMSE Error Value:  20.291743711440162 Model Coefficients:  [  7.35979578  17.24668604 -14.4865654  ...   0.           0.\n",
      "   0.        ] Parameters:  1\n"
     ]
    },
    {
     "name": "stderr",
     "output_type": "stream",
     "text": [
      "c:\\Users\\maria\\anaconda3\\envs\\MLC\\lib\\site-packages\\sklearn\\linear_model\\_coordinate_descent.py:647: ConvergenceWarning: Objective did not converge. You might want to increase the number of iterations, check the scale of the features or consider increasing regularisation. Duality gap: 1.331e+05, tolerance: 1.268e+05\n",
      "  model = cd_fast.enet_coordinate_descent(\n"
     ]
    }
   ],
   "source": [
    "# LASSO DEGREE 1\n",
    "polynomial_converter_lasso = PolynomialFeatures(degree=1,include_bias=False)\n",
    "poly_features_lasso = polynomial_converter_lasso.fit_transform(X)\n",
    "\n",
    "# SPLIT THIS NEW POLY DATA SET\n",
    "X_train, X_test, y_train, y_test = train_test_split(poly_features_lasso, y, test_size=0.3, random_state=101)\n",
    "\n",
    "#APPLY FEATURE SCALING\n",
    "scaler_lasso = StandardScaler()\n",
    "scaler_lasso.fit(X_train)\n",
    "X_train = scaler_lasso.transform(X_train)\n",
    "X_test = scaler_lasso.transform(X_test)\n",
    "\n",
    "# TRAIN ON THIS NEW POLY SET\n",
    "model = LassoCV(eps=0.1,n_alphas=10,cv=5)\n",
    "model.fit(X_train,y_train)\n",
    "\n",
    "# PREDICT ON BOTH TRAIN AND TEST\n",
    "train_pred = model.predict(X_train)\n",
    "test_pred = model.predict(X_test)\n",
    "\n",
    "# Calculate Errors\n",
    "\n",
    "# Errors on Train Set\n",
    "train_RMSE_lasso = np.sqrt(mean_squared_error(y_train,train_pred))\n",
    "\n",
    "# Errors on Test Set\n",
    "test_RMSE_lasso = np.sqrt(mean_squared_error(y_test,test_pred))\n",
    "\n",
    "print('Lasso degree 1 Test RMSE Error Value: ', test_RMSE_lasso, 'Model Coefficients: ', model.coef_ , 'Parameters: ', model.alpha_) \n",
    "\n",
    "# RIDGE DEGREE 6\n",
    "polynomial_converter_ridge = PolynomialFeatures(degree=6,include_bias=False)\n",
    "poly_features_ridge = polynomial_converter_ridge.fit_transform(X)\n",
    "\n",
    "# SPLIT THIS NEW POLY DATA SET\n",
    "X_train, X_test, y_train, y_test = train_test_split(poly_features_ridge, y, test_size=0.3, random_state=101)\n",
    "\n",
    "#APPLY FEATURE SCALING\n",
    "scaler_ridge = StandardScaler()\n",
    "scaler_ridge.fit(X_train)\n",
    "\n",
    "X_train = scaler_ridge.transform(X_train)\n",
    "X_test = scaler_ridge.transform(X_test)\n",
    "\n",
    "# TRAIN ON THIS NEW POLY SET\n",
    "ridge_cv_model = RidgeCV(alphas=1.0,scoring='neg_mean_absolute_error')   \n",
    "ridge_cv_model.fit(X_train,y_train)\n",
    "\n",
    "# PREDICT ON BOTH TRAIN AND TEST\n",
    "train_pred = ridge_cv_model.predict(X_train)\n",
    "test_pred = ridge_cv_model.predict(X_test)\n",
    "\n",
    "# Calculate Errors\n",
    "    \n",
    "# Errors on Train Set\n",
    "train_RMSE_ridge = np.sqrt(mean_squared_error(y_train,train_pred))\n",
    "    \n",
    "# Errors on Test Set\n",
    "test_RMSE_ridge = np.sqrt(mean_squared_error(y_test,test_pred))\n",
    "\n",
    "print('Ridge degree 6 Test RMSE Error Value: ', test_RMSE_ridge, 'Model Coefficients: ', ridge_cv_model.coef_ , 'Parameters: ', ridge_cv_model.alpha_) \n",
    "\n",
    "#ELASTICNET DEGREE 4\n",
    "polynomial_converter_elastic = PolynomialFeatures(degree=4,include_bias=False)\n",
    "poly_features_elastic = polynomial_converter_elastic.fit_transform(X)\n",
    "\n",
    "# SPLIT THIS NEW POLY DATA SET\n",
    "X_train, X_test, y_train, y_test = train_test_split(poly_features_elastic, y, test_size=0.3, random_state=101)\n",
    "\n",
    "#APPLY FEATURE SCALING\n",
    "scaler_elastic = StandardScaler()\n",
    "scaler_elastic.fit(X_train)\n",
    "X_train = scaler_elastic.transform(X_train)\n",
    "X_test = scaler_elastic.transform(X_test)\n",
    "\n",
    "# TRAIN ON THIS NEW POLY SET\n",
    "elastic_model = ElasticNetCV(l1_ratio=1,tol=0.01)    \n",
    "elastic_model.fit(X_train,y_train)\n",
    "\n",
    "# PREDICT ON BOTH TRAIN AND TEST\n",
    "train_pred = elastic_model.predict(X_train)\n",
    "test_pred = elastic_model.predict(X_test)\n",
    "\n",
    "# Calculate Errors\n",
    "\n",
    "# Errors on Train Set\n",
    "train_RMSE_elastic = np.sqrt(mean_squared_error(y_train,train_pred))\n",
    "\n",
    "# Errors on Test Set\n",
    "test_RMSE_elastic = np.sqrt(mean_squared_error(y_test,test_pred))\n",
    "\n",
    "print('ElasticNet degree 4 Test RMSE Error Value: ', test_RMSE_elastic, 'Model Coefficients: ', elastic_model.coef_ , 'Parameters: ', elastic_model.l1_ratio_) \n"
   ]
  },
  {
   "cell_type": "code",
   "execution_count": null,
   "metadata": {},
   "outputs": [],
   "source": [
    "from joblib import dump\n",
    "\n",
    "# since ridge had the least error of 16.9, we will save that as the best model\n",
    "\n",
    "dump(ridge_cv_model, 'best_model.joblib')\n",
    "dump(polynomial_converter_ridge, 'converter.joblib')\n",
    "dump(scaler_ridge, 'scaler.bin')"
   ]
  },
  {
   "cell_type": "markdown",
   "metadata": {
    "id": "IUGAAZY4uQYs"
   },
   "source": [
    "### 12- Load the best model and test it on a sample that you manually created it."
   ]
  },
  {
   "cell_type": "code",
   "execution_count": 17,
   "metadata": {
    "id": "SIw1mo3kuQYs",
    "tags": []
   },
   "outputs": [
    {
     "name": "stdout",
     "output_type": "stream",
     "text": [
      "[68.2727823]\n"
     ]
    }
   ],
   "source": [
    "from joblib import load\n",
    "loaded_model = load('best_model.joblib')\n",
    "loaded_converter = load('converter.joblib')\n",
    "loaded_scaler = load('scaler.bin')\n",
    "\n",
    "sample = [[1200.0,\n",
    "  698.0,\n",
    "  1039.0,\n",
    "  1382.0,\n",
    "  768.0,\n",
    "  20.1,\n",
    "  42.0,\n",
    "  0.9763,\n",
    "  21.0,\n",
    "  5.0,\n",
    "  2004.0,\n",
    "  1.0,\n",
    "  0.0,\n",
    "  0.0]]\n",
    "\n",
    "poly_features = loaded_converter.fit_transform(sample)\n",
    "sample = loaded_scaler.transform(poly_features)\n",
    "\n",
    "predict = loaded_model.predict(sample)\n",
    " \n",
    "print(predict)"
   ]
  },
  {
   "cell_type": "markdown",
   "metadata": {
    "id": "G3dUEoJjj-AK"
   },
   "source": [
    "## Great work!\n",
    "----"
   ]
  }
 ],
 "metadata": {
  "anaconda-cloud": {},
  "colab": {
   "provenance": []
  },
  "kernelspec": {
   "display_name": "Python 3.10.6 ('MLC')",
   "language": "python",
   "name": "python3"
  },
  "language_info": {
   "codemirror_mode": {
    "name": "ipython",
    "version": 3
   },
   "file_extension": ".py",
   "mimetype": "text/x-python",
   "name": "python",
   "nbconvert_exporter": "python",
   "pygments_lexer": "ipython3",
   "version": "3.10.6"
  },
  "vscode": {
   "interpreter": {
    "hash": "a62ece0cacc590d5300f93610b2c4ff6eda6094a4ef5400b4e29beadfc36820d"
   }
  }
 },
 "nbformat": 4,
 "nbformat_minor": 4
}
